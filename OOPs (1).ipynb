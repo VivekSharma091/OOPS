{
  "nbformat": 4,
  "nbformat_minor": 0,
  "metadata": {
    "colab": {
      "provenance": []
    },
    "kernelspec": {
      "name": "python3",
      "display_name": "Python 3"
    },
    "language_info": {
      "name": "python"
    }
  },
  "cells": [
    {
      "cell_type": "markdown",
      "source": [
        "# Python OOPs\n",
        "\n",
        "1. What is Object-Oriented Programming (OOP)?\n",
        "* OOP is a programming approach that organizes software design around objects. These objects represent real-world entities and contain attributes (data) and methods (functions). It helps in code reusability, modularity, and easier maintenance.\n",
        "\n",
        "2. What is a class in OOP?\n",
        "* A class is a blueprint for creating objects. It defines variables (attributes) and functions (methods) that describe the behavior of the object. For example, a Car class may have attributes like color and speed, and methods like drive().\n",
        "\n",
        "3. What is an object in OOP?\n",
        "* An object is an instance of a class. It represents a specific entity created from the class. For example, if Car is a class, then my_car = Car() is an object.\n",
        "\n",
        "4. What is the difference between abstraction and encapsulation?\n",
        "\n",
        "* Abstraction → Hides internal details and shows only essential information (e.g., driving a car without knowing its engine details).\n",
        "\n",
        "* Encapsulation → Wrapping variables and methods together and restricting direct access using access modifiers.\n",
        "\n",
        "5. What are dunder methods in Python?\n",
        "\n",
        "* Dunder (double underscore) methods are special predefined methods in Python used to perform operator overloading and customize object behavior. Examples:\n",
        "\n",
        "* __init__() → Constructor\n",
        "\n",
        "* __str__() → String representation\n",
        "\n",
        "* __len__() → Length of object\n",
        "\n",
        "6. Explain the concept of inheritance in OOP.\n",
        "\n",
        "* Inheritance is the process where a child class derives properties and methods from a parent class. It promotes code reusability and avoids redundancy. Example: A Dog class can inherit from an Animal class.\n",
        "\n",
        "7. What is polymorphism in OOP?\n",
        "* Polymorphism means one name, multiple forms. A single method or operator can perform different actions depending on the object. Example: The + operator adds numbers but concatenates strings\n",
        "\n",
        "8. How is encapsulation achieved in Python?\n",
        "* Encapsulation is achieved by:\n",
        "\n",
        "* Making attributes private/protected using _var or __var.\n",
        "\n",
        "* Using getter and setter methods to control access.\n",
        "* This ensures data security.\n",
        "\n",
        "9. What is a constructor in Python?\n",
        "* A constructor is a special method __init__() in Python that automatically executes when a new object is created. It is used to initialize the object’s attributes\n",
        "\n",
        "10. What are class and static methods in Python?\n",
        "* Class Method → Declared with @classmethod. Takes cls as parameter and works with class variables.\n",
        "\n",
        "* Static Method → Declared with @staticmethod. It doesn’t take self/cls and is used for utility purposes.\n",
        "\n",
        "11. What is method overloading in Python?\n",
        "* Python does not support true method overloading. Instead, it is achieved using default arguments or *args to allow a function to handle multiple types of inputs.\n",
        "\n",
        "12. What is method overriding in OOP?\n",
        "* When a subclass defines a method with the same name as in its parent class, the subclass method replaces the parent’s method. This allows specialized behavior.\n",
        "\n",
        "13. What is a property decorator in Python?\n",
        "* The @property decorator allows methods to be accessed like attributes. It is useful for implementing getters, setters, and controlled access to private variables.\n",
        "\n",
        "14. Why is polymorphism important in OOP?\n",
        "* Polymorphism is important because it increases flexibility and reusability. It allows the same interface to be used for different objects, making code more maintainable and extendable.\n",
        "\n",
        "15. What is an abstract class in Python?\n",
        "* An abstract class is a class that cannot be instantiated. It is created using the ABC (Abstract Base Class) module. Abstract classes can have abstract methods (declared but not implemented). Child classes must implement these methods.\n",
        "\n",
        "16. What are the advantages of OOP?\n",
        "* Code reusability (using inheritance)\n",
        "\n",
        "* Easier debugging and maintenance\n",
        "\n",
        "* Better security (using encapsulation)\n",
        "\n",
        "* Real-world modeling using classes and objects\n",
        "\n",
        "* Flexibility and scalability (using polymorphism)\n",
        "\n",
        "17. What is the difference between a class variable and an instance variable?\n",
        "* Class Variable → Shared across all objects of the class. Defined outside __init__.\n",
        "\n",
        "* Instance Variable → Unique for each object. Defined inside __init__.\n",
        "Example: Car company name (class variable), car color (instance variable)\n",
        "\n",
        "18. What is multiple inheritance in Python?\n",
        "* When a class inherits from more than one parent class, it is called multiple inheritance. Python handles this using Method Resolution Order (MRO) to decide which class’s method to call.\n",
        "\n",
        "19. Explain the purpose of ‘’__str__’ and ‘__repr__’ ‘ methods in Python?\n",
        "* __str__() → Returns a readable string representation of the object (used when we print the object).\n",
        "\n",
        "* __repr__() → Returns an official string representation (for debugging). Ideally, repr(obj) should give a string that can recreate the object.\n",
        "\n",
        "20. What is the significance of the ‘super()’ function in Python?\n",
        "\n",
        "* The super() function is used in inheritance to call methods from the parent class. It avoids explicitly naming the parent class and supports multiple inheritance by following Method Resolution Order (MRO).\n",
        "\n",
        "21. What is the significance of the __del__ method in Python?\n",
        "*  The __del__() method is a destructor. It is called automatically when an object is about to be destroyed, usually used to release resources like closing files or database connections.\n",
        "\n",
        "22. What is the difference between @staticmethod and @classmethod in Python?\n",
        "* @staticmethod → Does not take self or cls. Used for utility functions related to the class but not dependent on class or instance data.\n",
        "\n",
        "* @classmethod → Takes cls as the first argument. It works on class variables and affects all instances.\n",
        "\n",
        "23. How does polymorphism work in Python with inheritanc?\n",
        "* In inheritance, polymorphism allows the child class to override methods of the parent class. When we call a method on an object, Python decides at runtime whether to use the parent or child version. This provides flexibility in using the same method name for different behaviors.\n",
        "\n",
        "24. What is method chaining in Python OOP?\n",
        "* Method chaining means calling multiple methods on the same object in a single line because each method returns self. Example:\n",
        "\n",
        "* obj.method1().method2().method3()\n",
        "\n",
        "* This improves readability and concise code.\n",
        "25. What is the purpose of the __call__ method in Python?\n",
        "* The __call__() method makes an object callable like a function. If a class defines __call__, then its objects can be used with parentheses like functions.\n",
        "\n",
        "\n",
        "\n"
      ],
      "metadata": {
        "id": "2z_Hb761ufov"
      }
    },
    {
      "cell_type": "code",
      "source": [
        "# Practical Questions\n",
        "\n",
        "#1. Create a parent class Animal with a method speak() that prints a generic message. Create a child class Dog that overrides the speak() method to print \"Bark!\".\n",
        "\n",
        "class Animal:\n",
        "    def speak(self):\n",
        "        print(\"This is a generic animal sound\")\n",
        "\n",
        "class Dog(Animal):\n",
        "    def speak(self):\n",
        "        print(\"Bark!\")\n",
        "\n",
        "d = Dog()\n",
        "d.speak()\n",
        "\n"
      ],
      "metadata": {
        "colab": {
          "base_uri": "https://localhost:8080/"
        },
        "id": "MnnE8IQd4Cy_",
        "outputId": "f0f05216-1e74-4651-884d-19ed7a81d8eb"
      },
      "execution_count": 1,
      "outputs": [
        {
          "output_type": "stream",
          "name": "stdout",
          "text": [
            "Bark!\n"
          ]
        }
      ]
    },
    {
      "cell_type": "code",
      "source": [
        "#2. Write a program to create an abstract class Shape with a method area(). Derive classes Circle and Rectangle from it and implement the area() method in both.\n",
        "\n",
        "class Shape:\n",
        "    def area(self): pass\n",
        "\n",
        "class Circle(Shape):\n",
        "    def __init__(self,r): self.r=r\n",
        "    def area(self): return 3.14*self.r*self.r\n",
        "\n",
        "class Rectangle(Shape):\n",
        "    def __init__(self,l,w): self.l=l; self.w=w\n",
        "    def area(self): return self.l*self.w\n",
        "\n",
        "print(Circle(5).area(), Rectangle(4,6).area())\n",
        "\n"
      ],
      "metadata": {
        "colab": {
          "base_uri": "https://localhost:8080/"
        },
        "id": "cr7f8jt944RD",
        "outputId": "0844c2b5-ff96-4e69-f4a0-e03edcbdc254"
      },
      "execution_count": 3,
      "outputs": [
        {
          "output_type": "stream",
          "name": "stdout",
          "text": [
            "78.5 24\n"
          ]
        }
      ]
    },
    {
      "cell_type": "code",
      "source": [
        "#3. Implement a multi-level inheritance scenario where a class Vehicle has an attribute type. Derive a class Car and further derive a class ElectricCar that adds a battery attribute\n",
        "\n",
        "class Vehicle:\n",
        "    def __init__(self, vtype): self.type = vtype\n",
        "\n",
        "class Car(Vehicle):\n",
        "    def __init__(self, vtype, brand): super().__init__(vtype); self.brand = brand\n",
        "\n",
        "class ElectricCar(Car):\n",
        "    def __init__(self, vtype, brand, battery): super().__init__(vtype, brand); self.battery = battery\n",
        "\n",
        "ec = ElectricCar(\"Four-wheeler\", \"Tesla\", \"85 kWh\")\n",
        "print(ec.type, ec.brand, ec.battery)\n"
      ],
      "metadata": {
        "colab": {
          "base_uri": "https://localhost:8080/"
        },
        "id": "mH1LCIiE547d",
        "outputId": "8085fa92-7fba-492e-b889-d139568e0849"
      },
      "execution_count": 5,
      "outputs": [
        {
          "output_type": "stream",
          "name": "stdout",
          "text": [
            "Four-wheeler Tesla 85 kWh\n"
          ]
        }
      ]
    },
    {
      "cell_type": "code",
      "source": [
        "#4. Demonstrate polymorphism by creating a base class Bird with a method fly(). Create two derived classes Sparrow and Penguin that override the fly() method.\n",
        "\n",
        "class Bird:\n",
        "    def fly(self): print(\"Birds can fly\")\n",
        "\n",
        "class Sparrow(Bird):\n",
        "    def fly(self): print(\"Sparrow flies high\")\n",
        "\n",
        "class Penguin(Bird):\n",
        "    def fly(self): print(\"Penguins cannot fly\")\n",
        "\n",
        "for b in [Sparrow(), Penguin()]:\n",
        "    b.fly()\n",
        "\n"
      ],
      "metadata": {
        "colab": {
          "base_uri": "https://localhost:8080/"
        },
        "id": "bvmHtjXw544k",
        "outputId": "15038fed-b315-4ad7-d83f-640642189313"
      },
      "execution_count": 9,
      "outputs": [
        {
          "output_type": "stream",
          "name": "stdout",
          "text": [
            "Sparrow flies high\n",
            "Penguins cannot fly\n"
          ]
        }
      ]
    },
    {
      "cell_type": "code",
      "source": [
        "#5. Write a program to demonstrate encapsulation by creating a class BankAccount with private attributes balance and methods to deposit, withdraw, and check balance.\n",
        "\n",
        "class BankAccount:\n",
        "    def __init__(self, balance):\n",
        "        self.__balance = balance\n",
        "\n",
        "    def deposit(self, amount):\n",
        "        self.__balance += amount\n",
        "\n",
        "    def withdraw(self, amount):\n",
        "        self.__balance -= amount\n",
        "\n",
        "    def check_balance(self):\n",
        "        return self.__balance\n",
        "\n",
        "ba = BankAccount(1000)\n",
        "ba.deposit(500)\n",
        "ba.withdraw(200)\n",
        "print(ba.check_balance())"
      ],
      "metadata": {
        "colab": {
          "base_uri": "https://localhost:8080/"
        },
        "id": "ajTBHoyI542V",
        "outputId": "8599bf64-2761-481a-f602-4aab2114ebea"
      },
      "execution_count": 10,
      "outputs": [
        {
          "output_type": "stream",
          "name": "stdout",
          "text": [
            "1300\n"
          ]
        }
      ]
    },
    {
      "cell_type": "code",
      "source": [
        "#6. Demonstrate runtime polymorphism using a method play() in a base class Instrument. Derive classes Guitar and Piano that implement their own version of play().\n",
        "\n",
        "class Instrument:\n",
        "    def play(self): pass\n",
        "\n",
        "class Guitar(Instrument):\n",
        "    def play(self): print(\"Guitar is playing\")\n",
        "\n",
        "class Piano(Instrument):\n",
        "    def play(self): print(\"Piano is playing\")\n",
        "\n",
        "for i in [Guitar(), Piano()]:\n",
        "    i.play()\n",
        "\n",
        "\n"
      ],
      "metadata": {
        "colab": {
          "base_uri": "https://localhost:8080/"
        },
        "id": "Lhm1Blc-54yU",
        "outputId": "29180318-708c-4930-e4af-433764c44633"
      },
      "execution_count": 12,
      "outputs": [
        {
          "output_type": "stream",
          "name": "stdout",
          "text": [
            "Guitar is playing\n",
            "Piano is playing\n"
          ]
        }
      ]
    },
    {
      "cell_type": "code",
      "source": [
        "#7. Create a class MathOperations with a class method add_numbers() to add two numbers and a static method subtract_numbers() to subtract two numbers\n",
        "\n",
        "class MathOperations:\n",
        "    @classmethod\n",
        "    def add_numbers(cls, a, b):\n",
        "        return a + b\n",
        "\n",
        "    @staticmethod\n",
        "    def subtract_numbers(a, b):\n",
        "        return a - b\n",
        "\n",
        "print(MathOperations.add_numbers(5, 3))\n",
        "print(MathOperations.subtract_numbers(5, 3))"
      ],
      "metadata": {
        "colab": {
          "base_uri": "https://localhost:8080/"
        },
        "id": "4HWNwoDf54lq",
        "outputId": "3e62579d-8912-4ac3-868f-e3a7a9eb072a"
      },
      "execution_count": 13,
      "outputs": [
        {
          "output_type": "stream",
          "name": "stdout",
          "text": [
            "8\n",
            "2\n"
          ]
        }
      ]
    },
    {
      "cell_type": "code",
      "source": [
        "#8. Implement a class Person with a class method to count the total number of persons created.\n",
        "\n",
        "class Person:\n",
        "    count = 0   # class variable\n",
        "\n",
        "    def __init__(self, name):\n",
        "        self.name = name\n",
        "        Person.count += 1\n",
        "\n",
        "    @classmethod\n",
        "    def total_persons(cls):\n",
        "        return cls.count\n",
        "\n",
        "p1 = Person(\"Vivek\")\n",
        "p2 = Person(\"Yeshu\")\n",
        "print(\"Total persons:\", Person.total_persons())\n"
      ],
      "metadata": {
        "colab": {
          "base_uri": "https://localhost:8080/"
        },
        "id": "MvJFKIyx7b4Y",
        "outputId": "11fb37fb-db3d-4364-feb3-ac9e3563c7dc"
      },
      "execution_count": 14,
      "outputs": [
        {
          "output_type": "stream",
          "name": "stdout",
          "text": [
            "Total persons: 2\n"
          ]
        }
      ]
    },
    {
      "cell_type": "code",
      "source": [
        "#9. Write a class Fraction with attributes numerator and denominator. Override the str method to display the fraction as \"numerator/denominator\".\n",
        "\n",
        "class Fraction:\n",
        "    def __init__(self, numerator, denominator):\n",
        "        self.numerator = numerator\n",
        "        self.denominator = denominator\n",
        "\n",
        "    def __str__(self):\n",
        "        return f\"{self.numerator}/{self.denominator}\"\n",
        "\n",
        "f = Fraction(5, 3)\n",
        "print(f)\n"
      ],
      "metadata": {
        "colab": {
          "base_uri": "https://localhost:8080/"
        },
        "id": "dPImYbok8Xeo",
        "outputId": "5c3bdbb1-7d73-4eab-93dd-d551db4fb1d0"
      },
      "execution_count": 15,
      "outputs": [
        {
          "output_type": "stream",
          "name": "stdout",
          "text": [
            "5/3\n"
          ]
        }
      ]
    },
    {
      "cell_type": "code",
      "source": [
        "#10. Demonstrate operator overloading by creating a class Vector and overriding the add method to add two vectors.\n",
        "\n",
        "class Vector:\n",
        "    def __init__(self, x, y):\n",
        "        self.x = x\n",
        "        self.y = y\n",
        "\n",
        "    def __add__(self, other):\n",
        "        return Vector(self.x + other.x, self.y + other.y)\n",
        "\n",
        "v1 = Vector(1, 2)\n",
        "v2 = Vector(3, 4)\n",
        "v3 = v1 + v2\n",
        "print(v3.x, v3.y)\n"
      ],
      "metadata": {
        "colab": {
          "base_uri": "https://localhost:8080/"
        },
        "id": "mHkldu1u8XbF",
        "outputId": "45c3fb72-5312-491a-8242-0aad27f92377"
      },
      "execution_count": 16,
      "outputs": [
        {
          "output_type": "stream",
          "name": "stdout",
          "text": [
            "4 6\n"
          ]
        }
      ]
    },
    {
      "cell_type": "code",
      "source": [
        "#11. Create a class Person with attributes name and age. Add a method greet() that prints \"Hello, my name is {name} and I am {age} years old.\"\n",
        "\n",
        "class Person:\n",
        "    def __init__(self, name, age):\n",
        "        self.name = name\n",
        "        self.age = age\n",
        "\n",
        "    def greet(self):\n",
        "        print(f\"Hello, my name is {self.name} and I am {self.age} years old.\")\n",
        "\n",
        "p1 = Person(\"Vivek\", 22)\n",
        "p1.greet()\n"
      ],
      "metadata": {
        "colab": {
          "base_uri": "https://localhost:8080/"
        },
        "id": "J-4t6Cm48XXo",
        "outputId": "87098fa8-1ed3-4620-b4d2-d51580e1d446"
      },
      "execution_count": 17,
      "outputs": [
        {
          "output_type": "stream",
          "name": "stdout",
          "text": [
            "Hello, my name is Vivek and I am 22 years old.\n"
          ]
        }
      ]
    },
    {
      "cell_type": "code",
      "source": [
        "#12. Implement a class Student with attributes name and grades. Create a method average_grade() to compute the average of the grades.\n",
        "\n",
        "class Student:\n",
        "    def __init__(self, name, grades):\n",
        "        self.name = name\n",
        "        self.grades = grades\n",
        "\n",
        "    def average_grade(self):\n",
        "        return sum(self.grades) / len(self.grades)\n",
        "\n",
        "\n",
        "s1 = Student(\"Vivek\", [90, 85, 95])\n",
        "print(s1.average_grade())\n"
      ],
      "metadata": {
        "colab": {
          "base_uri": "https://localhost:8080/"
        },
        "id": "6duDr9u68XU_",
        "outputId": "67571e55-2348-4e5c-9972-44b65d5d48c8"
      },
      "execution_count": 18,
      "outputs": [
        {
          "output_type": "stream",
          "name": "stdout",
          "text": [
            "90.0\n"
          ]
        }
      ]
    },
    {
      "cell_type": "code",
      "source": [
        "#13. Create a class Rectangle with methods set_dimensions() to set the dimensions and area() to calculate the area\n",
        "\n",
        "class Rectangle:\n",
        "    def set_dimensions(self, length, width):\n",
        "        self.length = length\n",
        "        self.width = width\n",
        "\n",
        "    def area(self):\n",
        "        return self.length * self.width\n",
        "\n",
        "r = Rectangle()\n",
        "r.set_dimensions(5, 3)\n",
        "print(\"Area:\", r.area())\n",
        "\n",
        "\n",
        "\n"
      ],
      "metadata": {
        "colab": {
          "base_uri": "https://localhost:8080/"
        },
        "id": "jbj9GIa78XSX",
        "outputId": "aeb9b6ea-1482-4051-f7a0-4eba29bc7ca4"
      },
      "execution_count": 20,
      "outputs": [
        {
          "output_type": "stream",
          "name": "stdout",
          "text": [
            "Area: 15\n"
          ]
        }
      ]
    },
    {
      "cell_type": "code",
      "source": [
        "#14. Create a class Employee with a method calculate_salary() that computes the salary based on hours worked and hourly rate. Create a derived class Manager that adds a bonus to the salary.\n",
        "\n",
        "class Employee:\n",
        "    def calculate_salary(self, hours_worked, hourly_rate):\n",
        "        return hours_worked * hourly_rate\n",
        "\n",
        "class Manager(Employee):\n",
        "    def calculate_salary(self, hours_worked, hourly_rate):\n",
        "        return super().calculate_salary(hours_worked, hourly_rate) + 1000\n",
        "\n",
        "e = Employee()\n",
        "m = Manager()\n",
        "print(e.calculate_salary(40, 10))\n",
        "print(m.calculate_salary(40, 10))"
      ],
      "metadata": {
        "colab": {
          "base_uri": "https://localhost:8080/"
        },
        "id": "bDNVxteV9VEP",
        "outputId": "1d6c81f5-7150-4cfa-b684-72a2331e2acb"
      },
      "execution_count": 22,
      "outputs": [
        {
          "output_type": "stream",
          "name": "stdout",
          "text": [
            "400\n",
            "1400\n"
          ]
        }
      ]
    },
    {
      "cell_type": "code",
      "source": [
        "#15. Create a class Product with attributes name, price, and quantity. Implement a method total_price() that calculates the total price of the product.\n",
        "\n",
        "class Product:\n",
        "    def __init__(self, name, price, quantity):\n",
        "        self.name = name\n",
        "        self.price = price\n",
        "        self.quantity = quantity\n",
        "\n",
        "    def total_price(self):\n",
        "        return self.price * self.quantity\n",
        "\n",
        "p = Product(\"Apple\", 10, 5)\n",
        "print(p.total_price())"
      ],
      "metadata": {
        "colab": {
          "base_uri": "https://localhost:8080/"
        },
        "id": "FfeB_73b9U7T",
        "outputId": "37b422a8-d83c-4d68-c7f6-09c9125c498d"
      },
      "execution_count": 23,
      "outputs": [
        {
          "output_type": "stream",
          "name": "stdout",
          "text": [
            "50\n"
          ]
        }
      ]
    },
    {
      "cell_type": "code",
      "source": [
        "#16. Create a class Animal with an abstract method sound(). Create two derived classes Cow and Sheep that implement the sound() method.\n",
        "\n",
        "from abc import ABC, abstractmethod\n",
        "\n",
        "class Animal(ABC):\n",
        "    @abstractmethod\n",
        "    def sound(self): pass\n",
        "\n",
        "class Cow(Animal):\n",
        "    def sound(self): print(\"Moo!\")\n",
        "\n",
        "class Sheep(Animal):\n",
        "    def sound(self): print(\"Baa!\")\n",
        "\n",
        "c = Cow()\n",
        "s = Sheep()\n",
        "c.sound()\n",
        "s.sound()"
      ],
      "metadata": {
        "colab": {
          "base_uri": "https://localhost:8080/"
        },
        "id": "wqCUn5_F-Vea",
        "outputId": "d90da2d7-bf25-418d-bb72-815ac7b1a156"
      },
      "execution_count": 24,
      "outputs": [
        {
          "output_type": "stream",
          "name": "stdout",
          "text": [
            "Moo!\n",
            "Baa!\n"
          ]
        }
      ]
    },
    {
      "cell_type": "code",
      "source": [
        "#17. Create a class Book with attributes title, author, and year_published. Add a method get_book_info() that returns a formatted string with the book's details.\n",
        "\n",
        "class Book:\n",
        "    def __init__(self, title, author, year):\n",
        "        self.title = title\n",
        "        self.author = author\n",
        "        self.year = year\n",
        "\n",
        "    def get_book_info(self):\n",
        "        return f\"'{self.title}' by {self.author}, published in {self.year}\"\n",
        "\n",
        "b1 = Book(\"Python Basics\", \"Guido van Rossum\", 1991)\n",
        "print(b1.get_book_info())\n"
      ],
      "metadata": {
        "colab": {
          "base_uri": "https://localhost:8080/"
        },
        "id": "R4uxC4ja-Vba",
        "outputId": "b32cc0fa-bd6e-4f72-a132-537154312266"
      },
      "execution_count": 25,
      "outputs": [
        {
          "output_type": "stream",
          "name": "stdout",
          "text": [
            "'Python Basics' by Guido van Rossum, published in 1991\n"
          ]
        }
      ]
    },
    {
      "cell_type": "code",
      "source": [
        "#18. Create a class House with attributes address and price. Create a derived class Mansion that adds an attribute number_of_rooms\n",
        "\n",
        "class House:\n",
        "    def __init__(self, address, price):\n",
        "        self.address = address\n",
        "        self.price = price\n",
        "\n",
        "class Mansion(House):\n",
        "    def __init__(self, address, price, number_of_rooms):\n",
        "        super().__init__(address, price)\n",
        "        self.number_of_rooms = number_of_rooms\n",
        "\n",
        "m1 = Mansion(\"Delhi\", 5000000, 10)\n",
        "print(\"Address:\", m1.address)\n",
        "print(\"Price:\", m1.price)\n",
        "print(\"Rooms:\", m1.number_of_rooms)\n"
      ],
      "metadata": {
        "colab": {
          "base_uri": "https://localhost:8080/"
        },
        "id": "2miw7TFW-VZh",
        "outputId": "317ab3c4-62f7-4458-a414-1c1694efb929"
      },
      "execution_count": 26,
      "outputs": [
        {
          "output_type": "stream",
          "name": "stdout",
          "text": [
            "Address: Delhi\n",
            "Price: 5000000\n",
            "Rooms: 10\n"
          ]
        }
      ]
    }
  ]
}